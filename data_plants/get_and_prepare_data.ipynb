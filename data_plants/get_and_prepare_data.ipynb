{
 "cells": [
  {
   "cell_type": "markdown",
   "metadata": {},
   "source": [
    "# 1.) Get Raw Data\n",
    "\n",
    "## I.) Download dataset\n",
    "\n",
    "Plant Disease Dataset: https://www.kaggle.com/emmarex/plantdisease\n",
    "\n",
    "## II.) Unzip in current working directory (this directory)\n",
    "\n",
    "After extraction there should be a folder ./plants in your directory\n",
    "with the subfolders ./plants/Test/... and  ./plants/Train/..... (e.g.  ./plants/Train/Apple__Apple_scab)\n"
   ]
  },
  {
   "cell_type": "markdown",
   "metadata": {},
   "source": [
    "# 2.) Splitting sick and normal data\n",
    "Since we are not interested in classifying the disease (we assume we only know the plant is sick or not) we need to separate our data with below's code"
   ]
  },
  {
   "cell_type": "code",
   "execution_count": 7,
   "metadata": {},
   "outputs": [],
   "source": [
    "import glob\n",
    "import os\n",
    "\n",
    "testnormal = \"./plants_binary/test/normal\"\n",
    "testsick = \"./plants_binary/test/sick\"\n",
    "trainnormal = \"./plants_binary/train/normal\"\n",
    "trainsick = \"./plants_binary/train/sick\"\n",
    "\n",
    "\n",
    "os.system(\"mkdir -p ./plants_binary/test/normal\")\n",
    "os.system(\"mkdir -p ./plants_binary/test/sick\")\n",
    "os.system(\"mkdir -p ./plants_binary/train/normal\")\n",
    "os.system(\"mkdir -p ./plants_binary/train/sick\")\n",
    "\n",
    "files = glob.glob(\"./*/*/*.jpg\")\n",
    "\n",
    "\n",
    "for file in files:\n",
    "    if \"healthy\" in file and \"Train\" in file:\n",
    "        os.system(f\"cp {file} {trainnormal}\")\n",
    "        print(file,trainnormal)\n",
    "\n",
    "    elif \"healthy\" in file and \"Test\" in file:\n",
    "        os.system(f\"cp {file} {testnormal}\")\n",
    "        print(file,testnormal)\n",
    "    elif \"Test\" in file:\n",
    "        os.system(f\"cp {file} {testsick}\")\n",
    "        print(file,testsick)\n",
    "    elif \"Train\" in file:\n",
    "        os.system(f\"cp {file} {trainsick}\")\n",
    "        print(file,trainsick)\n"
   ]
  },
  {
   "cell_type": "markdown",
   "metadata": {},
   "source": [
    "# 3.) There should be now a new subfolder called ./plants_binary in your cwd"
   ]
  },
  {
   "cell_type": "code",
   "execution_count": null,
   "metadata": {},
   "outputs": [],
   "source": []
  },
  {
   "cell_type": "code",
   "execution_count": null,
   "metadata": {},
   "outputs": [],
   "source": []
  }
 ],
 "metadata": {
  "kernelspec": {
   "display_name": "Python 3",
   "language": "python",
   "name": "python3"
  },
  "language_info": {
   "codemirror_mode": {
    "name": "ipython",
    "version": 3
   },
   "file_extension": ".py",
   "mimetype": "text/x-python",
   "name": "python",
   "nbconvert_exporter": "python",
   "pygments_lexer": "ipython3",
   "version": "3.6.9"
  }
 },
 "nbformat": 4,
 "nbformat_minor": 2
}
